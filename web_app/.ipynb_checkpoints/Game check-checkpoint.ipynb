{
 "cells": [
  {
   "cell_type": "code",
   "execution_count": 1,
   "metadata": {},
   "outputs": [],
   "source": [
    "from app.game import *"
   ]
  },
  {
   "cell_type": "code",
   "execution_count": 2,
   "metadata": {},
   "outputs": [],
   "source": [
    "game = Game(FPS, [builder.create(\"easy\")])\n",
    "status = get_status(game)\n",
    "status.update(dict(won=False, fail=False))\n",
    "_game = status_to_game(status)"
   ]
  },
  {
   "cell_type": "code",
   "execution_count": 7,
   "metadata": {},
   "outputs": [
    {
     "data": {
      "text/plain": [
       "({'x': 450.3305563608118,\n",
       "  'y': 17.80247995918249,\n",
       "  'name': '',\n",
       "  'mass': 110.24881414129338,\n",
       "  'vel': (3.6728484534640855, 3.360888435361026),\n",
       "  'poly': <shapely.geometry.polygon.Polygon at 0x7fc1261c3da0>,\n",
       "  '_p': (404.9271865150988, 370.53396445974005),\n",
       "  '_theta': -0.8297210762828233,\n",
       "  'gas_level': 550,\n",
       "  '_initial_gas_level': 550,\n",
       "  'thrust': False,\n",
       "  'thrust_direction': '-y',\n",
       "  'thrust_mag': 3000.0,\n",
       "  'width': 35.0,\n",
       "  'length': 35.0,\n",
       "  'gas_per_thrust': 0.0008927416699394516,\n",
       "  'min_dist_to_planet': 525.0,\n",
       "  'coords': [(425.2755683812368, 18.596577005550394),\n",
       "   (448.9034229944496, -7.224431618763212),\n",
       "   (474.7244316187632, 16.403422994449606),\n",
       "   (451.0965770055504, 42.22443161876321)]},\n",
       " {'x': 450.33159351516844,\n",
       "  'y': 17.80290694372026,\n",
       "  'name': '',\n",
       "  'mass': 110.2,\n",
       "  'vel': (3.684372390760492, 3.365632708002884),\n",
       "  'poly': <shapely.geometry.polygon.Polygon at 0x7fc1261d64e0>,\n",
       "  '_p': (406.01783746180627, 370.8927244219178),\n",
       "  '_theta': -0.8305786661101242,\n",
       "  'gas_level': 550,\n",
       "  '_initial_gas_level': 550,\n",
       "  'thrust': False,\n",
       "  'thrust_direction': '-y',\n",
       "  'thrust_mag': 3000.0,\n",
       "  'width': 35.0,\n",
       "  'length': 35.0,\n",
       "  'gas_per_thrust': 0.0008927416699394516,\n",
       "  'min_dist_to_planet': 525.0,\n",
       "  'coords': [(425.2765178863249, 18.617780020748988),\n",
       "   (448.88221997925103, -7.223482113675139),\n",
       "   (474.7234821136751, 16.382219979251012),\n",
       "   (451.11778002074897, 42.22348211367514)]})"
      ]
     },
     "execution_count": 7,
     "metadata": {},
     "output_type": "execute_result"
    }
   ],
   "source": [
    "vars(game.scenes[0].sc), vars(_game.scenes[0].sc)"
   ]
  },
  {
   "cell_type": "code",
   "execution_count": 17,
   "metadata": {},
   "outputs": [
    {
     "data": {
      "text/plain": [
       "(False, False, '')"
      ]
     },
     "execution_count": 17,
     "metadata": {},
     "output_type": "execute_result"
    }
   ],
   "source": [
    "game.step(1)\n",
    "_game.step(1)"
   ]
  },
  {
   "cell_type": "code",
   "execution_count": 18,
   "metadata": {},
   "outputs": [
    {
     "data": {
      "text/plain": [
       "({'x': 457.48182920319397,\n",
       "  'y': 24.209765453461902,\n",
       "  'name': '',\n",
       "  'mass': 110.24881414129338,\n",
       "  'vel': (25.788981836737452, 22.907955309764812),\n",
       "  'poly': <shapely.geometry.polygon.Polygon at 0x7fc1261d69e8>,\n",
       "  '_p': (2843.204665411658, 2525.5749073033157),\n",
       "  '_theta': -0.8444916579839582,\n",
       "  'gas_level': 547,\n",
       "  '_initial_gas_level': 550,\n",
       "  'thrust': True,\n",
       "  'thrust_direction': '+y',\n",
       "  'thrust_mag': 3000.0,\n",
       "  'width': 35.0,\n",
       "  'length': 35.0,\n",
       "  'gas_per_thrust': 0.0008927416699394516,\n",
       "  'min_dist_to_planet': 525.0,\n",
       "  'coords': [(430.45528272705417, 23.609687821467347),\n",
       "   (453.6991824920033, -2.557488635250312),\n",
       "   (479.866358948721, 20.68641112969879),\n",
       "   (456.62245918377187, 46.85358758641645)]},\n",
       " {'x': 457.50580402347856,\n",
       "  'y': 24.21972294734205,\n",
       "  'name': '',\n",
       "  'mass': 110.2,\n",
       "  'vel': (25.87084238541139, 22.941284633829856),\n",
       "  'poly': <shapely.geometry.polygon.Polygon at 0x7fc1261d6b00>,\n",
       "  '_p': (2850.9668308723353, 2528.12956664805),\n",
       "  '_theta': -0.845343264140305,\n",
       "  'gas_level': 547,\n",
       "  '_initial_gas_level': 550,\n",
       "  'thrust': True,\n",
       "  'thrust_direction': '+y',\n",
       "  'thrust_mag': 3000.0,\n",
       "  'width': 35.0,\n",
       "  'length': 35.0,\n",
       "  'gas_per_thrust': 0.0008927416699394516,\n",
       "  'min_dist_to_planet': 525.0,\n",
       "  'coords': [(430.47314379665715, 23.63768453197543),\n",
       "   (453.69475100711344, -2.549277081836987),\n",
       "   (479.8817126209259, 20.672330128619294),\n",
       "   (456.6601054104696, 46.85929174243171)]})"
      ]
     },
     "execution_count": 18,
     "metadata": {},
     "output_type": "execute_result"
    }
   ],
   "source": [
    "vars(game.scenes[0].sc), vars(_game.scenes[0].sc)"
   ]
  }
 ],
 "metadata": {
  "kernelspec": {
   "display_name": "Python 3",
   "language": "python",
   "name": "python3"
  },
  "language_info": {
   "codemirror_mode": {
    "name": "ipython",
    "version": 3
   },
   "file_extension": ".py",
   "mimetype": "text/x-python",
   "name": "python",
   "nbconvert_exporter": "python",
   "pygments_lexer": "ipython3",
   "version": "3.6.9"
  }
 },
 "nbformat": 4,
 "nbformat_minor": 4
}
